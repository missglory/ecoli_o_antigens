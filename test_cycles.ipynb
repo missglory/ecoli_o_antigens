{
 "cells": [
  {
   "cell_type": "code",
   "execution_count": null,
   "metadata": {},
   "outputs": [
    {
     "ename": "Error",
     "evalue": "Jupyter cannot be started. Error attempting to locate jupyter: ",
     "output_type": "error",
     "traceback": [
      "Error: Jupyter cannot be started. Error attempting to locate jupyter:",
      "at A.startServer (c:\\Users\\KOROTKOV\\.vscode\\extensions\\ms-python.python-2020.2.64397\\out\\client\\extension.js:1:786120)",
      "at async A.ensureServerAndNotebookImpl (c:\\Users\\KOROTKOV\\.vscode\\extensions\\ms-python.python-2020.2.64397\\out\\client\\extension.js:1:785575)",
      "at async A.ensureServerAndNotebook (c:\\Users\\KOROTKOV\\.vscode\\extensions\\ms-python.python-2020.2.64397\\out\\client\\extension.js:1:785376)",
      "at async A.submitCode (c:\\Users\\KOROTKOV\\.vscode\\extensions\\ms-python.python-2020.2.64397\\out\\client\\extension.js:1:782328)",
      "at async A.reexecuteCell (c:\\Users\\KOROTKOV\\.vscode\\extensions\\ms-python.python-2020.2.64397\\out\\client\\extension.js:75:879318)"
     ]
    }
   ],
   "source": [
    "from reg import *\n",
    "import matplotlib.pyplot as plt\n",
    "import pickle\n",
    "\n",
    "def render_graph(g:tuple):\n",
    "    pos = nx.shells_layout(g[1])\n",
    "    nx.draw_networkx(g[1], pos=pos, arrows = True, edge_color='g', with_labels=True, font_weight='bold', labels=g[2])\n",
    "    plt.title(g[0] + \"\\n\" + gs[g[0]], fontname=\"monospace\", horizontalalignment=\"left\", loc=\"left\")\n",
    "    nx.draw_networkx_edge_labels(g[1],pos,edge_labels=g[3],font_color='r')\n",
    "    plt.subplots_adjust(top=0.7, left=0.01)\n",
    "\n",
    "\n",
    "with open(\"rep_graphs/g0_3.pkl\", \"rb\") as in_pkl:\n",
    "    ob = pickle.load(in_pkl)\n",
    "    render_graph(ob[0])\n",
    "    plt.show()\n",
    "    render_graph(ob[1])\n",
    "    plt.show()"
   ]
  }
 ],
 "metadata": {
  "kernelspec": {
   "display_name": "${KERNEL_SPEC_DISPLAY_NAME}",
   "language": "${KERNEL_SPEC_LANGUAGE}",
   "name": "${KERNEL_SPEC_NAME}"
  },
  "language_info": {
   "codemirror_mode": {
    "name": "ipython",
    "version": 2
   },
   "file_extension": ".py",
   "mimetype": "text/x-python",
   "name": "python",
   "nbconvert_exporter": "python",
   "pygments_lexer": "ipython2",
   "version": "2.7.6"
  },
  "pycharm": {
   "stem_cell": {
    "cell_type": "raw",
    "source": [],
    "metadata": {
     "collapsed": false
    }
   }
  }
 },
 "nbformat": 4,
 "nbformat_minor": 0
}