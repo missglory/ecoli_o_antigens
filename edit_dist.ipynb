{
 "nbformat": 4,
 "nbformat_minor": 2,
 "metadata": {
  "language_info": {
   "name": "python",
   "codemirror_mode": {
    "name": "ipython",
    "version": 3
   },
   "version": "3.7.3-final"
  },
  "orig_nbformat": 2,
  "file_extension": ".py",
  "mimetype": "text/x-python",
  "name": "python",
  "npconvert_exporter": "python",
  "pygments_lexer": "ipython3",
  "version": 3,
  "kernelspec": {
   "name": "python37364bitbasecondaadbbdd8d694d4a429579f8678d261ca5",
   "display_name": "Python 3.7.3 64-bit ('base': conda)"
  }
 },
 "cells": [
  {
   "cell_type": "code",
   "execution_count": 35,
   "metadata": {},
   "outputs": [],
   "source": [
    "%run reg.py\n",
    "import pickle, sys\n",
    "import numpy as np\n",
    "import pandas as pd\n",
    "edit_dists=None\n",
    "with open(\"edit_dists.pkl\", \"rb\") as inf:\n",
    "    edit_dists = pickle.load(inf)\n",
    "    \n",
    "rows = ['O1 A', 'O1 A1', 'O1 B', 'O1 C', 'O2', 'O3', 'O4', 'O5 ab', 'O5 ac', 'O6', 'O7', 'O8', 'O9', 'O9 a', 'O10', 'O11', 'O12', 'O13', 'O15', 'O16', 'O17', 'O18 A', 'O18 A1', 'O18 A1A2', 'O18 ab', 'O18 ac', 'O18 B', 'O18 B1', 'O19 ab', 'O20 ab', 'O20 ac', 'O21', 'O22', 'O23 A', 'O24', 'O25', 'O26', 'O27', 'O28 ab', 'O28 ac', 'O29', 'O30', 'O32', 'O33', 'O34', 'O35', 'O36', 'O37', 'O38', 'O39', 'O40', 'O41', 'O42', 'O43', 'O44', 'O45', 'O45 rel', 'O46', 'O48', 'O49', 'O50', 'O51', 'O52', 'O53', 'O54', 'O55', 'O56', 'O58', 'O59', 'O60', 'O61', 'O62', 'O63', 'O64', 'O65', 'O66', 'O68', 'O69', 'O70', 'O71', 'O73', 'O73 ab', 'O74', 'O75', 'O76', 'O77', 'O78', 'O79', 'O80', 'O81', 'O82', 'O83', 'O84', 'O85', 'O86', 'O87', 'O88', 'O89', 'O90', 'O91', 'O92', 'O95', 'O96', 'O97', 'O98', 'O99', 'O100', 'O101', 'O102', 'O103', 'O104', 'O105', 'O106', 'O107', 'O108', 'O109', 'O110', 'O111', 'O112 ab', 'O112 ac', 'O113', 'O114', 'O115', 'O116', 'O117', 'O118', 'O119', 'O120', 'O121', 'O123', 'O124', 'O125 ab', 'O125 ac', 'O126', 'O127', 'O128 ab', 'O128 ac', 'O129', 'O130', 'O131', 'O132', 'O133', 'O134', 'O135', 'O136', 'O137', 'O138', 'O139', 'O140', 'O141', 'O142', 'O143', 'O144', 'O145', 'O146', 'O147', 'O148', 'O149', 'O150', 'O151', 'O152', 'O153', 'O154', 'O155', 'O156', 'O157', 'O158 ab', 'O158 ac', 'O159', 'O160', 'O161', 'O163', 'O164', 'O165', 'O166', 'O167', 'O168', 'O169', 'O170', 'O171', 'O172', 'O173', 'O174 ab', 'O174 ac', 'O175', 'O176', 'O177', 'O178', 'O179', 'O180', 'O181', 'O182', 'O183', 'O184', 'O185', 'O186']\n",
    "dataset = pd.DataFrame(data=edit_dists, index=rows, columns=rows)\n",
    "# dataset.to_csv(\"edit_dst.csv\")\n",
    "filtr = [g.name for g in graphs if len(g.nlabels)+len(g.elabels)==0]\n",
    "dataset.drop(filtr, axis=0, inplace=True)\n",
    "dataset.drop(filtr, axis=1, inplace=True)\n",
    "dataset.to_csv(\"edit_dst_filter.csv\")"
   ]
  },
  {
   "cell_type": "code",
   "execution_count": 36,
   "metadata": {},
   "outputs": [
    {
     "data": {
      "text/plain": "array([[0., 0., 4., ..., 7., 9., 7.],\n       [0., 0., 4., ..., 7., 9., 7.],\n       [4., 4., 0., ..., 7., 9., 8.],\n       ...,\n       [7., 7., 7., ..., 0., 8., 5.],\n       [9., 9., 9., ..., 8., 0., 9.],\n       [7., 7., 8., ..., 5., 9., 0.]])"
     },
     "execution_count": 36,
     "metadata": {},
     "output_type": "execute_result"
    }
   ],
   "source": [
    "edit_dists_filter = dataset.to_numpy()\n",
    "edit_dists_filter"
   ]
  },
  {
   "cell_type": "code",
   "execution_count": null,
   "metadata": {},
   "outputs": [],
   "source": [
    "from scipy.cluster.hierarchy import dendrogram \n",
    "import matplotlib.pyplot as plt \n",
    "import numpy as np \n",
    "from scipy.cluster.hierarchy import linkage\n",
    "linkage_matrix = linkage(dist_mat, \"single\") \n",
    "dendrogram(linkage_matrix) \n",
    "plt.show()"
   ]
  }
 ]
}